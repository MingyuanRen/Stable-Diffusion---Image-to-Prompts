{
 "cells": [
  {
   "cell_type": "code",
   "execution_count": 1,
   "id": "3d9525ba",
   "metadata": {
    "_cell_guid": "b1076dfc-b9ad-4769-8c92-a6c4dae69d19",
    "_uuid": "8f2839f25d086af736a60e9eeb907d3b93b6e0e5",
    "execution": {
     "iopub.execute_input": "2023-03-14T22:57:49.152861Z",
     "iopub.status.busy": "2023-03-14T22:57:49.152503Z",
     "iopub.status.idle": "2023-03-14T22:57:49.236339Z",
     "shell.execute_reply": "2023-03-14T22:57:49.235435Z"
    },
    "papermill": {
     "duration": 0.091187,
     "end_time": "2023-03-14T22:57:49.238677",
     "exception": false,
     "start_time": "2023-03-14T22:57:49.147490",
     "status": "completed"
    },
    "tags": []
   },
   "outputs": [],
   "source": [
    "import os\n",
    "import unicodedata\n",
    "import pandas as pd\n",
    "from tqdm.notebook import tqdm"
   ]
  },
  {
   "cell_type": "code",
   "execution_count": 2,
   "id": "8c12b640",
   "metadata": {
    "execution": {
     "iopub.execute_input": "2023-03-14T22:57:49.246046Z",
     "iopub.status.busy": "2023-03-14T22:57:49.245778Z",
     "iopub.status.idle": "2023-03-14T22:57:49.251609Z",
     "shell.execute_reply": "2023-03-14T22:57:49.250750Z"
    },
    "papermill": {
     "duration": 0.012075,
     "end_time": "2023-03-14T22:57:49.253940",
     "exception": false,
     "start_time": "2023-03-14T22:57:49.241865",
     "status": "completed"
    },
    "tags": []
   },
   "outputs": [],
   "source": [
    "def is_english_only(string):\n",
    "    for s in string:\n",
    "        cat = unicodedata.category(s)         \n",
    "        if not cat in ['Ll', 'Lu', 'Nd', 'Po', 'Pd', 'Zs']:\n",
    "            return False\n",
    "    return True"
   ]
  },
  {
   "cell_type": "code",
   "execution_count": 3,
   "id": "6c1ef240",
   "metadata": {
    "execution": {
     "iopub.execute_input": "2023-03-14T22:57:49.260826Z",
     "iopub.status.busy": "2023-03-14T22:57:49.260565Z",
     "iopub.status.idle": "2023-03-14T22:57:57.195722Z",
     "shell.execute_reply": "2023-03-14T22:57:57.194557Z"
    },
    "papermill": {
     "duration": 7.942351,
     "end_time": "2023-03-14T22:57:57.199125",
     "exception": false,
     "start_time": "2023-03-14T22:57:49.256774",
     "status": "completed"
    },
    "tags": []
   },
   "outputs": [
    {
     "name": "stdout",
     "output_type": "stream",
     "text": [
      "(2000000, 4)\n",
      "(1122454, 4)\n",
      "(1025543, 4)\n"
     ]
    }
   ],
   "source": [
    "df = pd.read_parquet('/kaggle/input/diffusiondb-metadata/metadata.parquet', columns=['image_name', 'prompt', 'width', 'height'])\n",
    "print(df.shape)\n",
    "\n",
    "df = df[df['width'] == df['height']]\n",
    "print(df.shape)\n",
    "\n",
    "df['prompt'] = df['prompt'].str.strip()\n",
    "df = df[df['prompt'].map(lambda x: len(x.split())) >= 5]\n",
    "print(df.shape)"
   ]
  },
  {
   "cell_type": "code",
   "execution_count": 4,
   "id": "5db5df8a",
   "metadata": {
    "execution": {
     "iopub.execute_input": "2023-03-14T22:57:57.208399Z",
     "iopub.status.busy": "2023-03-14T22:57:57.207302Z",
     "iopub.status.idle": "2023-03-14T22:58:30.094098Z",
     "shell.execute_reply": "2023-03-14T22:58:30.092804Z"
    },
    "papermill": {
     "duration": 32.894276,
     "end_time": "2023-03-14T22:58:30.097294",
     "exception": false,
     "start_time": "2023-03-14T22:57:57.203018",
     "status": "completed"
    },
    "tags": []
   },
   "outputs": [
    {
     "name": "stdout",
     "output_type": "stream",
     "text": [
      "(1025543, 4)\n",
      "(973295, 4)\n",
      "(274789, 5)\n",
      "(274789, 5)\n"
     ]
    }
   ],
   "source": [
    "df = df[~df['prompt'].str.contains('^(?:\\s*|NULL|null|NaN)$', na=True)]\n",
    "print(df.shape)\n",
    "\n",
    "df = df[df['prompt'].apply(is_english_only)]\n",
    "print(df.shape)\n",
    "\n",
    "df['tail'] = df['prompt'].apply(lambda x: x[-15:])\n",
    "df.drop_duplicates(subset='tail', inplace=True)\n",
    "print(df.shape)\n",
    "\n",
    "df.drop_duplicates(subset='prompt', inplace=True)\n",
    "print(df.shape)"
   ]
  },
  {
   "cell_type": "code",
   "execution_count": 5,
   "id": "9bf0b269",
   "metadata": {
    "execution": {
     "iopub.execute_input": "2023-03-14T22:58:30.106229Z",
     "iopub.status.busy": "2023-03-14T22:58:30.105375Z",
     "iopub.status.idle": "2023-03-14T22:58:52.977942Z",
     "shell.execute_reply": "2023-03-14T22:58:52.976700Z"
    },
    "papermill": {
     "duration": 22.879568,
     "end_time": "2023-03-14T22:58:52.980725",
     "exception": false,
     "start_time": "2023-03-14T22:58:30.101157",
     "status": "completed"
    },
    "tags": []
   },
   "outputs": [
    {
     "data": {
      "application/vnd.jupyter.widget-view+json": {
       "model_id": "a390dd018f434b57a69bf409a1103fdf",
       "version_major": 2,
       "version_minor": 0
      },
      "text/plain": [
       "  0%|          | 0/20 [00:00<?, ?it/s]"
      ]
     },
     "metadata": {},
     "output_type": "display_data"
    }
   ],
   "source": [
    "df.reset_index(drop=True, inplace=True)\n",
    "\n",
    "for i in tqdm(range(1, 2000, 100)):\n",
    "    image_dir = f'/kaggle/input/diffusiondb-2m-part-{str(i).zfill(4)}-to-{str(i+99).zfill(4)}-of-2000/'\n",
    "    images = os.listdir(image_dir)\n",
    "    df.loc[df['image_name'].isin(images), 'filepath'] = image_dir + df['image_name']\n",
    "\n",
    "df = df[['filepath', 'prompt']].copy()"
   ]
  },
  {
   "cell_type": "code",
   "execution_count": 6,
   "id": "fe32946e",
   "metadata": {
    "execution": {
     "iopub.execute_input": "2023-03-14T22:58:52.989386Z",
     "iopub.status.busy": "2023-03-14T22:58:52.989063Z",
     "iopub.status.idle": "2023-03-14T22:58:53.891516Z",
     "shell.execute_reply": "2023-03-14T22:58:53.890313Z"
    },
    "papermill": {
     "duration": 0.909924,
     "end_time": "2023-03-14T22:58:53.894429",
     "exception": false,
     "start_time": "2023-03-14T22:58:52.984505",
     "status": "completed"
    },
    "tags": []
   },
   "outputs": [],
   "source": [
    "df.to_csv('diffusiondb_80W.csv', index=False)"
   ]
  },
  {
   "cell_type": "code",
   "execution_count": 7,
   "id": "c868ebe8",
   "metadata": {
    "execution": {
     "iopub.execute_input": "2023-03-14T22:58:53.902985Z",
     "iopub.status.busy": "2023-03-14T22:58:53.902673Z",
     "iopub.status.idle": "2023-03-14T22:59:05.326692Z",
     "shell.execute_reply": "2023-03-14T22:59:05.325549Z"
    },
    "papermill": {
     "duration": 11.43133,
     "end_time": "2023-03-14T22:59:05.329431",
     "exception": false,
     "start_time": "2023-03-14T22:58:53.898101",
     "status": "completed"
    },
    "tags": []
   },
   "outputs": [],
   "source": [
    "import sys\n",
    "sys.path.append('/kaggle/input/sentence-transformers-222/sentence-transformers')\n",
    "from sentence_transformers import SentenceTransformer"
   ]
  },
  {
   "cell_type": "code",
   "execution_count": 8,
   "id": "9ee3d300",
   "metadata": {
    "execution": {
     "iopub.execute_input": "2023-03-14T22:59:05.339956Z",
     "iopub.status.busy": "2023-03-14T22:59:05.338640Z",
     "iopub.status.idle": "2023-03-14T23:00:24.150005Z",
     "shell.execute_reply": "2023-03-14T23:00:24.148835Z"
    },
    "papermill": {
     "duration": 78.819018,
     "end_time": "2023-03-14T23:00:24.153029",
     "exception": false,
     "start_time": "2023-03-14T22:59:05.334011",
     "status": "completed"
    },
    "tags": []
   },
   "outputs": [
    {
     "data": {
      "application/vnd.jupyter.widget-view+json": {
       "model_id": "2c26370454e1444d80db4796be263d4d",
       "version_major": 2,
       "version_minor": 0
      },
      "text/plain": [
       "Batches:   0%|          | 0/8588 [00:00<?, ?it/s]"
      ]
     },
     "metadata": {},
     "output_type": "display_data"
    }
   ],
   "source": [
    "st_model = SentenceTransformer(\n",
    "    '/kaggle/input/sentence-transformers-222/all-MiniLM-L6-v2',\n",
    "    device='cuda'\n",
    ")\n",
    "\n",
    "embedding = st_model.encode(\n",
    "    df['prompt'], \n",
    "    show_progress_bar=True, \n",
    "    convert_to_tensor=True\n",
    ")"
   ]
  },
  {
   "cell_type": "code",
   "execution_count": 9,
   "id": "d605ff69",
   "metadata": {
    "execution": {
     "iopub.execute_input": "2023-03-14T23:00:24.162006Z",
     "iopub.status.busy": "2023-03-14T23:00:24.161698Z",
     "iopub.status.idle": "2023-03-14T23:00:24.166285Z",
     "shell.execute_reply": "2023-03-14T23:00:24.165177Z"
    },
    "papermill": {
     "duration": 0.011649,
     "end_time": "2023-03-14T23:00:24.168586",
     "exception": false,
     "start_time": "2023-03-14T23:00:24.156937",
     "status": "completed"
    },
    "tags": []
   },
   "outputs": [],
   "source": [
    "import torch"
   ]
  },
  {
   "cell_type": "code",
   "execution_count": 10,
   "id": "ca1f243b",
   "metadata": {
    "execution": {
     "iopub.execute_input": "2023-03-14T23:00:24.176419Z",
     "iopub.status.busy": "2023-03-14T23:00:24.176143Z",
     "iopub.status.idle": "2023-03-14T23:00:24.984647Z",
     "shell.execute_reply": "2023-03-14T23:00:24.983491Z"
    },
    "papermill": {
     "duration": 0.815672,
     "end_time": "2023-03-14T23:00:24.987629",
     "exception": false,
     "start_time": "2023-03-14T23:00:24.171957",
     "status": "completed"
    },
    "tags": []
   },
   "outputs": [],
   "source": [
    "torch.save(embedding, 'diffusiondb_80W.pt')"
   ]
  },
  {
   "cell_type": "code",
   "execution_count": 11,
   "id": "040bdf7a",
   "metadata": {
    "execution": {
     "iopub.execute_input": "2023-03-14T23:00:24.996408Z",
     "iopub.status.busy": "2023-03-14T23:00:24.996090Z",
     "iopub.status.idle": "2023-03-14T23:00:26.000093Z",
     "shell.execute_reply": "2023-03-14T23:00:25.998942Z"
    },
    "papermill": {
     "duration": 1.011508,
     "end_time": "2023-03-14T23:00:26.002863",
     "exception": false,
     "start_time": "2023-03-14T23:00:24.991355",
     "status": "completed"
    },
    "tags": []
   },
   "outputs": [
    {
     "name": "stdout",
     "output_type": "stream",
     "text": [
      "huggingface/tokenizers: The current process just got forked, after parallelism has already been used. Disabling parallelism to avoid deadlocks...\n",
      "To disable this warning, you can either:\n",
      "\t- Avoid using `tokenizers` before the fork if possible\n",
      "\t- Explicitly set the environment variable TOKENIZERS_PARALLELISM=(true | false)\n",
      "total 451M\r\n",
      "---------- 1 root root  12K Mar 14 23:00 __notebook__.ipynb\r\n",
      "-rw-r--r-- 1 root root  49M Mar 14 22:58 diffusiondb_80W.csv\r\n",
      "-rw-r--r-- 1 root root 403M Mar 14 23:00 diffusiondb_80W.pt\r\n"
     ]
    }
   ],
   "source": [
    "!ls -lh"
   ]
  },
  {
   "cell_type": "code",
   "execution_count": null,
   "id": "f1d51ace",
   "metadata": {
    "papermill": {
     "duration": 0.003678,
     "end_time": "2023-03-14T23:00:26.010309",
     "exception": false,
     "start_time": "2023-03-14T23:00:26.006631",
     "status": "completed"
    },
    "tags": []
   },
   "outputs": [],
   "source": []
  }
 ],
 "metadata": {
  "kernelspec": {
   "display_name": "Python 3",
   "language": "python",
   "name": "python3"
  },
  "language_info": {
   "codemirror_mode": {
    "name": "ipython",
    "version": 3
   },
   "file_extension": ".py",
   "mimetype": "text/x-python",
   "name": "python",
   "nbconvert_exporter": "python",
   "pygments_lexer": "ipython3",
   "version": "3.7.12"
  },
  "papermill": {
   "default_parameters": {},
   "duration": 168.815575,
   "end_time": "2023-03-14T23:00:28.839619",
   "environment_variables": {},
   "exception": null,
   "input_path": "__notebook__.ipynb",
   "output_path": "__notebook__.ipynb",
   "parameters": {},
   "start_time": "2023-03-14T22:57:40.024044",
   "version": "2.4.0"
  },
  "widgets": {
   "application/vnd.jupyter.widget-state+json": {
    "state": {
     "0885b65c3f1b4444a447ab77c2537998": {
      "model_module": "@jupyter-widgets/controls",
      "model_module_version": "1.5.0",
      "model_name": "FloatProgressModel",
      "state": {
       "_dom_classes": [],
       "_model_module": "@jupyter-widgets/controls",
       "_model_module_version": "1.5.0",
       "_model_name": "FloatProgressModel",
       "_view_count": null,
       "_view_module": "@jupyter-widgets/controls",
       "_view_module_version": "1.5.0",
       "_view_name": "ProgressView",
       "bar_style": "success",
       "description": "",
       "description_tooltip": null,
       "layout": "IPY_MODEL_ddfbf918d84e4f1f8058711c0de5c338",
       "max": 20.0,
       "min": 0.0,
       "orientation": "horizontal",
       "style": "IPY_MODEL_3aa9d5ba717c4dd3852947b29dda1894",
       "value": 20.0
      }
     },
     "108755adb9ff4de5bfc6c07d79a7a348": {
      "model_module": "@jupyter-widgets/controls",
      "model_module_version": "1.5.0",
      "model_name": "HTMLModel",
      "state": {
       "_dom_classes": [],
       "_model_module": "@jupyter-widgets/controls",
       "_model_module_version": "1.5.0",
       "_model_name": "HTMLModel",
       "_view_count": null,
       "_view_module": "@jupyter-widgets/controls",
       "_view_module_version": "1.5.0",
       "_view_name": "HTMLView",
       "description": "",
       "description_tooltip": null,
       "layout": "IPY_MODEL_e7f1bf2646a148e4b13df7e7c75eaeec",
       "placeholder": "​",
       "style": "IPY_MODEL_e1e4d99a47d745e9a778c659b498c65d",
       "value": "100%"
      }
     },
     "12aeb84ebc9445d6b4414c4ea95f720e": {
      "model_module": "@jupyter-widgets/base",
      "model_module_version": "1.2.0",
      "model_name": "LayoutModel",
      "state": {
       "_model_module": "@jupyter-widgets/base",
       "_model_module_version": "1.2.0",
       "_model_name": "LayoutModel",
       "_view_count": null,
       "_view_module": "@jupyter-widgets/base",
       "_view_module_version": "1.2.0",
       "_view_name": "LayoutView",
       "align_content": null,
       "align_items": null,
       "align_self": null,
       "border": null,
       "bottom": null,
       "display": null,
       "flex": null,
       "flex_flow": null,
       "grid_area": null,
       "grid_auto_columns": null,
       "grid_auto_flow": null,
       "grid_auto_rows": null,
       "grid_column": null,
       "grid_gap": null,
       "grid_row": null,
       "grid_template_areas": null,
       "grid_template_columns": null,
       "grid_template_rows": null,
       "height": null,
       "justify_content": null,
       "justify_items": null,
       "left": null,
       "margin": null,
       "max_height": null,
       "max_width": null,
       "min_height": null,
       "min_width": null,
       "object_fit": null,
       "object_position": null,
       "order": null,
       "overflow": null,
       "overflow_x": null,
       "overflow_y": null,
       "padding": null,
       "right": null,
       "top": null,
       "visibility": null,
       "width": null
      }
     },
     "2c26370454e1444d80db4796be263d4d": {
      "model_module": "@jupyter-widgets/controls",
      "model_module_version": "1.5.0",
      "model_name": "HBoxModel",
      "state": {
       "_dom_classes": [],
       "_model_module": "@jupyter-widgets/controls",
       "_model_module_version": "1.5.0",
       "_model_name": "HBoxModel",
       "_view_count": null,
       "_view_module": "@jupyter-widgets/controls",
       "_view_module_version": "1.5.0",
       "_view_name": "HBoxView",
       "box_style": "",
       "children": [
        "IPY_MODEL_f771a413b4244962b609ede071011459",
        "IPY_MODEL_578429c55a65426ea9256acef1837ec5",
        "IPY_MODEL_4057f8d6a528445fa660ef4423a950b5"
       ],
       "layout": "IPY_MODEL_c8adb15ff2324291bf6fd6cf1e32103f"
      }
     },
     "3aa9d5ba717c4dd3852947b29dda1894": {
      "model_module": "@jupyter-widgets/controls",
      "model_module_version": "1.5.0",
      "model_name": "ProgressStyleModel",
      "state": {
       "_model_module": "@jupyter-widgets/controls",
       "_model_module_version": "1.5.0",
       "_model_name": "ProgressStyleModel",
       "_view_count": null,
       "_view_module": "@jupyter-widgets/base",
       "_view_module_version": "1.2.0",
       "_view_name": "StyleView",
       "bar_color": null,
       "description_width": ""
      }
     },
     "4057f8d6a528445fa660ef4423a950b5": {
      "model_module": "@jupyter-widgets/controls",
      "model_module_version": "1.5.0",
      "model_name": "HTMLModel",
      "state": {
       "_dom_classes": [],
       "_model_module": "@jupyter-widgets/controls",
       "_model_module_version": "1.5.0",
       "_model_name": "HTMLModel",
       "_view_count": null,
       "_view_module": "@jupyter-widgets/controls",
       "_view_module_version": "1.5.0",
       "_view_name": "HTMLView",
       "description": "",
       "description_tooltip": null,
       "layout": "IPY_MODEL_c78dcae17bd34e4c87def752fa1f69a9",
       "placeholder": "​",
       "style": "IPY_MODEL_5322c007eb234b248a7549cf8f083ea4",
       "value": " 8588/8588 [01:06&lt;00:00, 162.66it/s]"
      }
     },
     "4414255ebab543029c4558aac62db3d9": {
      "model_module": "@jupyter-widgets/controls",
      "model_module_version": "1.5.0",
      "model_name": "HTMLModel",
      "state": {
       "_dom_classes": [],
       "_model_module": "@jupyter-widgets/controls",
       "_model_module_version": "1.5.0",
       "_model_name": "HTMLModel",
       "_view_count": null,
       "_view_module": "@jupyter-widgets/controls",
       "_view_module_version": "1.5.0",
       "_view_name": "HTMLView",
       "description": "",
       "description_tooltip": null,
       "layout": "IPY_MODEL_594d3e380658463da5653646ea7f1ff4",
       "placeholder": "​",
       "style": "IPY_MODEL_eb2b2dbc0f024b9dbd11ffdc3d93db04",
       "value": " 20/20 [00:22&lt;00:00,  1.12s/it]"
      }
     },
     "5322c007eb234b248a7549cf8f083ea4": {
      "model_module": "@jupyter-widgets/controls",
      "model_module_version": "1.5.0",
      "model_name": "DescriptionStyleModel",
      "state": {
       "_model_module": "@jupyter-widgets/controls",
       "_model_module_version": "1.5.0",
       "_model_name": "DescriptionStyleModel",
       "_view_count": null,
       "_view_module": "@jupyter-widgets/base",
       "_view_module_version": "1.2.0",
       "_view_name": "StyleView",
       "description_width": ""
      }
     },
     "578429c55a65426ea9256acef1837ec5": {
      "model_module": "@jupyter-widgets/controls",
      "model_module_version": "1.5.0",
      "model_name": "FloatProgressModel",
      "state": {
       "_dom_classes": [],
       "_model_module": "@jupyter-widgets/controls",
       "_model_module_version": "1.5.0",
       "_model_name": "FloatProgressModel",
       "_view_count": null,
       "_view_module": "@jupyter-widgets/controls",
       "_view_module_version": "1.5.0",
       "_view_name": "ProgressView",
       "bar_style": "success",
       "description": "",
       "description_tooltip": null,
       "layout": "IPY_MODEL_e6d6d0aebbd54bfdb743c7549998829e",
       "max": 8588.0,
       "min": 0.0,
       "orientation": "horizontal",
       "style": "IPY_MODEL_7d9b8e267e994c648debdd98e867fa5e",
       "value": 8588.0
      }
     },
     "594d3e380658463da5653646ea7f1ff4": {
      "model_module": "@jupyter-widgets/base",
      "model_module_version": "1.2.0",
      "model_name": "LayoutModel",
      "state": {
       "_model_module": "@jupyter-widgets/base",
       "_model_module_version": "1.2.0",
       "_model_name": "LayoutModel",
       "_view_count": null,
       "_view_module": "@jupyter-widgets/base",
       "_view_module_version": "1.2.0",
       "_view_name": "LayoutView",
       "align_content": null,
       "align_items": null,
       "align_self": null,
       "border": null,
       "bottom": null,
       "display": null,
       "flex": null,
       "flex_flow": null,
       "grid_area": null,
       "grid_auto_columns": null,
       "grid_auto_flow": null,
       "grid_auto_rows": null,
       "grid_column": null,
       "grid_gap": null,
       "grid_row": null,
       "grid_template_areas": null,
       "grid_template_columns": null,
       "grid_template_rows": null,
       "height": null,
       "justify_content": null,
       "justify_items": null,
       "left": null,
       "margin": null,
       "max_height": null,
       "max_width": null,
       "min_height": null,
       "min_width": null,
       "object_fit": null,
       "object_position": null,
       "order": null,
       "overflow": null,
       "overflow_x": null,
       "overflow_y": null,
       "padding": null,
       "right": null,
       "top": null,
       "visibility": null,
       "width": null
      }
     },
     "67f52ed2b24d450988b9722a10ff17da": {
      "model_module": "@jupyter-widgets/base",
      "model_module_version": "1.2.0",
      "model_name": "LayoutModel",
      "state": {
       "_model_module": "@jupyter-widgets/base",
       "_model_module_version": "1.2.0",
       "_model_name": "LayoutModel",
       "_view_count": null,
       "_view_module": "@jupyter-widgets/base",
       "_view_module_version": "1.2.0",
       "_view_name": "LayoutView",
       "align_content": null,
       "align_items": null,
       "align_self": null,
       "border": null,
       "bottom": null,
       "display": null,
       "flex": null,
       "flex_flow": null,
       "grid_area": null,
       "grid_auto_columns": null,
       "grid_auto_flow": null,
       "grid_auto_rows": null,
       "grid_column": null,
       "grid_gap": null,
       "grid_row": null,
       "grid_template_areas": null,
       "grid_template_columns": null,
       "grid_template_rows": null,
       "height": null,
       "justify_content": null,
       "justify_items": null,
       "left": null,
       "margin": null,
       "max_height": null,
       "max_width": null,
       "min_height": null,
       "min_width": null,
       "object_fit": null,
       "object_position": null,
       "order": null,
       "overflow": null,
       "overflow_x": null,
       "overflow_y": null,
       "padding": null,
       "right": null,
       "top": null,
       "visibility": null,
       "width": null
      }
     },
     "7d9b8e267e994c648debdd98e867fa5e": {
      "model_module": "@jupyter-widgets/controls",
      "model_module_version": "1.5.0",
      "model_name": "ProgressStyleModel",
      "state": {
       "_model_module": "@jupyter-widgets/controls",
       "_model_module_version": "1.5.0",
       "_model_name": "ProgressStyleModel",
       "_view_count": null,
       "_view_module": "@jupyter-widgets/base",
       "_view_module_version": "1.2.0",
       "_view_name": "StyleView",
       "bar_color": null,
       "description_width": ""
      }
     },
     "906f20a2ff654345bbd852382c83b460": {
      "model_module": "@jupyter-widgets/controls",
      "model_module_version": "1.5.0",
      "model_name": "DescriptionStyleModel",
      "state": {
       "_model_module": "@jupyter-widgets/controls",
       "_model_module_version": "1.5.0",
       "_model_name": "DescriptionStyleModel",
       "_view_count": null,
       "_view_module": "@jupyter-widgets/base",
       "_view_module_version": "1.2.0",
       "_view_name": "StyleView",
       "description_width": ""
      }
     },
     "a390dd018f434b57a69bf409a1103fdf": {
      "model_module": "@jupyter-widgets/controls",
      "model_module_version": "1.5.0",
      "model_name": "HBoxModel",
      "state": {
       "_dom_classes": [],
       "_model_module": "@jupyter-widgets/controls",
       "_model_module_version": "1.5.0",
       "_model_name": "HBoxModel",
       "_view_count": null,
       "_view_module": "@jupyter-widgets/controls",
       "_view_module_version": "1.5.0",
       "_view_name": "HBoxView",
       "box_style": "",
       "children": [
        "IPY_MODEL_108755adb9ff4de5bfc6c07d79a7a348",
        "IPY_MODEL_0885b65c3f1b4444a447ab77c2537998",
        "IPY_MODEL_4414255ebab543029c4558aac62db3d9"
       ],
       "layout": "IPY_MODEL_12aeb84ebc9445d6b4414c4ea95f720e"
      }
     },
     "c78dcae17bd34e4c87def752fa1f69a9": {
      "model_module": "@jupyter-widgets/base",
      "model_module_version": "1.2.0",
      "model_name": "LayoutModel",
      "state": {
       "_model_module": "@jupyter-widgets/base",
       "_model_module_version": "1.2.0",
       "_model_name": "LayoutModel",
       "_view_count": null,
       "_view_module": "@jupyter-widgets/base",
       "_view_module_version": "1.2.0",
       "_view_name": "LayoutView",
       "align_content": null,
       "align_items": null,
       "align_self": null,
       "border": null,
       "bottom": null,
       "display": null,
       "flex": null,
       "flex_flow": null,
       "grid_area": null,
       "grid_auto_columns": null,
       "grid_auto_flow": null,
       "grid_auto_rows": null,
       "grid_column": null,
       "grid_gap": null,
       "grid_row": null,
       "grid_template_areas": null,
       "grid_template_columns": null,
       "grid_template_rows": null,
       "height": null,
       "justify_content": null,
       "justify_items": null,
       "left": null,
       "margin": null,
       "max_height": null,
       "max_width": null,
       "min_height": null,
       "min_width": null,
       "object_fit": null,
       "object_position": null,
       "order": null,
       "overflow": null,
       "overflow_x": null,
       "overflow_y": null,
       "padding": null,
       "right": null,
       "top": null,
       "visibility": null,
       "width": null
      }
     },
     "c8adb15ff2324291bf6fd6cf1e32103f": {
      "model_module": "@jupyter-widgets/base",
      "model_module_version": "1.2.0",
      "model_name": "LayoutModel",
      "state": {
       "_model_module": "@jupyter-widgets/base",
       "_model_module_version": "1.2.0",
       "_model_name": "LayoutModel",
       "_view_count": null,
       "_view_module": "@jupyter-widgets/base",
       "_view_module_version": "1.2.0",
       "_view_name": "LayoutView",
       "align_content": null,
       "align_items": null,
       "align_self": null,
       "border": null,
       "bottom": null,
       "display": null,
       "flex": null,
       "flex_flow": null,
       "grid_area": null,
       "grid_auto_columns": null,
       "grid_auto_flow": null,
       "grid_auto_rows": null,
       "grid_column": null,
       "grid_gap": null,
       "grid_row": null,
       "grid_template_areas": null,
       "grid_template_columns": null,
       "grid_template_rows": null,
       "height": null,
       "justify_content": null,
       "justify_items": null,
       "left": null,
       "margin": null,
       "max_height": null,
       "max_width": null,
       "min_height": null,
       "min_width": null,
       "object_fit": null,
       "object_position": null,
       "order": null,
       "overflow": null,
       "overflow_x": null,
       "overflow_y": null,
       "padding": null,
       "right": null,
       "top": null,
       "visibility": null,
       "width": null
      }
     },
     "ddfbf918d84e4f1f8058711c0de5c338": {
      "model_module": "@jupyter-widgets/base",
      "model_module_version": "1.2.0",
      "model_name": "LayoutModel",
      "state": {
       "_model_module": "@jupyter-widgets/base",
       "_model_module_version": "1.2.0",
       "_model_name": "LayoutModel",
       "_view_count": null,
       "_view_module": "@jupyter-widgets/base",
       "_view_module_version": "1.2.0",
       "_view_name": "LayoutView",
       "align_content": null,
       "align_items": null,
       "align_self": null,
       "border": null,
       "bottom": null,
       "display": null,
       "flex": null,
       "flex_flow": null,
       "grid_area": null,
       "grid_auto_columns": null,
       "grid_auto_flow": null,
       "grid_auto_rows": null,
       "grid_column": null,
       "grid_gap": null,
       "grid_row": null,
       "grid_template_areas": null,
       "grid_template_columns": null,
       "grid_template_rows": null,
       "height": null,
       "justify_content": null,
       "justify_items": null,
       "left": null,
       "margin": null,
       "max_height": null,
       "max_width": null,
       "min_height": null,
       "min_width": null,
       "object_fit": null,
       "object_position": null,
       "order": null,
       "overflow": null,
       "overflow_x": null,
       "overflow_y": null,
       "padding": null,
       "right": null,
       "top": null,
       "visibility": null,
       "width": null
      }
     },
     "e1e4d99a47d745e9a778c659b498c65d": {
      "model_module": "@jupyter-widgets/controls",
      "model_module_version": "1.5.0",
      "model_name": "DescriptionStyleModel",
      "state": {
       "_model_module": "@jupyter-widgets/controls",
       "_model_module_version": "1.5.0",
       "_model_name": "DescriptionStyleModel",
       "_view_count": null,
       "_view_module": "@jupyter-widgets/base",
       "_view_module_version": "1.2.0",
       "_view_name": "StyleView",
       "description_width": ""
      }
     },
     "e6d6d0aebbd54bfdb743c7549998829e": {
      "model_module": "@jupyter-widgets/base",
      "model_module_version": "1.2.0",
      "model_name": "LayoutModel",
      "state": {
       "_model_module": "@jupyter-widgets/base",
       "_model_module_version": "1.2.0",
       "_model_name": "LayoutModel",
       "_view_count": null,
       "_view_module": "@jupyter-widgets/base",
       "_view_module_version": "1.2.0",
       "_view_name": "LayoutView",
       "align_content": null,
       "align_items": null,
       "align_self": null,
       "border": null,
       "bottom": null,
       "display": null,
       "flex": null,
       "flex_flow": null,
       "grid_area": null,
       "grid_auto_columns": null,
       "grid_auto_flow": null,
       "grid_auto_rows": null,
       "grid_column": null,
       "grid_gap": null,
       "grid_row": null,
       "grid_template_areas": null,
       "grid_template_columns": null,
       "grid_template_rows": null,
       "height": null,
       "justify_content": null,
       "justify_items": null,
       "left": null,
       "margin": null,
       "max_height": null,
       "max_width": null,
       "min_height": null,
       "min_width": null,
       "object_fit": null,
       "object_position": null,
       "order": null,
       "overflow": null,
       "overflow_x": null,
       "overflow_y": null,
       "padding": null,
       "right": null,
       "top": null,
       "visibility": null,
       "width": null
      }
     },
     "e7f1bf2646a148e4b13df7e7c75eaeec": {
      "model_module": "@jupyter-widgets/base",
      "model_module_version": "1.2.0",
      "model_name": "LayoutModel",
      "state": {
       "_model_module": "@jupyter-widgets/base",
       "_model_module_version": "1.2.0",
       "_model_name": "LayoutModel",
       "_view_count": null,
       "_view_module": "@jupyter-widgets/base",
       "_view_module_version": "1.2.0",
       "_view_name": "LayoutView",
       "align_content": null,
       "align_items": null,
       "align_self": null,
       "border": null,
       "bottom": null,
       "display": null,
       "flex": null,
       "flex_flow": null,
       "grid_area": null,
       "grid_auto_columns": null,
       "grid_auto_flow": null,
       "grid_auto_rows": null,
       "grid_column": null,
       "grid_gap": null,
       "grid_row": null,
       "grid_template_areas": null,
       "grid_template_columns": null,
       "grid_template_rows": null,
       "height": null,
       "justify_content": null,
       "justify_items": null,
       "left": null,
       "margin": null,
       "max_height": null,
       "max_width": null,
       "min_height": null,
       "min_width": null,
       "object_fit": null,
       "object_position": null,
       "order": null,
       "overflow": null,
       "overflow_x": null,
       "overflow_y": null,
       "padding": null,
       "right": null,
       "top": null,
       "visibility": null,
       "width": null
      }
     },
     "eb2b2dbc0f024b9dbd11ffdc3d93db04": {
      "model_module": "@jupyter-widgets/controls",
      "model_module_version": "1.5.0",
      "model_name": "DescriptionStyleModel",
      "state": {
       "_model_module": "@jupyter-widgets/controls",
       "_model_module_version": "1.5.0",
       "_model_name": "DescriptionStyleModel",
       "_view_count": null,
       "_view_module": "@jupyter-widgets/base",
       "_view_module_version": "1.2.0",
       "_view_name": "StyleView",
       "description_width": ""
      }
     },
     "f771a413b4244962b609ede071011459": {
      "model_module": "@jupyter-widgets/controls",
      "model_module_version": "1.5.0",
      "model_name": "HTMLModel",
      "state": {
       "_dom_classes": [],
       "_model_module": "@jupyter-widgets/controls",
       "_model_module_version": "1.5.0",
       "_model_name": "HTMLModel",
       "_view_count": null,
       "_view_module": "@jupyter-widgets/controls",
       "_view_module_version": "1.5.0",
       "_view_name": "HTMLView",
       "description": "",
       "description_tooltip": null,
       "layout": "IPY_MODEL_67f52ed2b24d450988b9722a10ff17da",
       "placeholder": "​",
       "style": "IPY_MODEL_906f20a2ff654345bbd852382c83b460",
       "value": "Batches: 100%"
      }
     }
    },
    "version_major": 2,
    "version_minor": 0
   }
  }
 },
 "nbformat": 4,
 "nbformat_minor": 5
}
